{
 "cells": [
  {
   "cell_type": "markdown",
   "metadata": {},
   "source": [
    "Project name: AMAG test\n",
    "\n",
    "Description: this notebook file aims to make directories for train/val data split\n",
    "\n",
    "Author: Ali Saghafi\n",
    "\n",
    "Date: 31/10/2023"
   ]
  },
  {
   "cell_type": "code",
   "execution_count": 1,
   "metadata": {},
   "outputs": [],
   "source": [
    "from sklearn.model_selection import train_test_split\n",
    "import os\n",
    "import shutil"
   ]
  },
  {
   "cell_type": "code",
   "execution_count": 2,
   "metadata": {},
   "outputs": [],
   "source": [
    "try:\n",
    "    __location__ = os.path.realpath(os.path.join(\n",
    "        os.getcwd(), os.path.dirname(__file__)))\n",
    "except(NameError):\n",
    "    __location__ = os.getcwd()"
   ]
  },
  {
   "cell_type": "markdown",
   "metadata": {},
   "source": [
    "### Utilities"
   ]
  },
  {
   "cell_type": "code",
   "execution_count": 3,
   "metadata": {},
   "outputs": [],
   "source": [
    "def move_files_to_folder(list_of_files, destination_folder):\n",
    "    for f in list_of_files:\n",
    "        try:\n",
    "            shutil.move(f, destination_folder)\n",
    "        except:\n",
    "            print(f)\n",
    "            assert False"
   ]
  },
  {
   "cell_type": "code",
   "execution_count": 9,
   "metadata": {},
   "outputs": [],
   "source": [
    "# there are 4952 annotation files while the images are 5000, the first step is to remove the 48 images which do not have annotation files.\n",
    "\n",
    "image_folder = __location__ + '\\\\Dataset\\\\images'\n",
    "annotation_folder = __location__ + '\\\\Dataset\\\\labels'\n",
    "\n",
    "# Get the list of files in each folder\n",
    "image_files = os.listdir(image_folder)\n",
    "annotation_files = os.listdir(annotation_folder)\n",
    "\n",
    "# Extract file names without extensions\n",
    "image_names = [os.path.splitext(file)[0] for file in image_files]\n",
    "annotation_names = [os.path.splitext(file)[0] for file in annotation_files]\n",
    "\n",
    "# Find images without corresponding annotations\n",
    "images_without_annotations = list(set(image_names) - set(annotation_names))\n",
    "\n",
    "# Remove images without annotations\n",
    "for image_name in images_without_annotations:\n",
    "    image_path = os.path.join(image_folder, image_name + '.jpg')  # Change the extension to match  image format\n",
    "    if os.path.exists(image_path):\n",
    "        os.remove(image_path)\n",
    "        print(f\"Removed {image_path}\")"
   ]
  },
  {
   "cell_type": "code",
   "execution_count": 11,
   "metadata": {},
   "outputs": [],
   "source": [
    "# Read images and annotations\n",
    "images = [os.path.join(image_folder, x) for x in os.listdir(image_folder)]\n",
    "annotations = [os.path.join(annotation_folder, x) for x in os.listdir(annotation_folder) if x[-3:] == \"txt\"]\n",
    "\n",
    "images.sort()\n",
    "annotations.sort()\n",
    "\n",
    "# Split the dataset into train-valid-test splits \n",
    "train_images, val_images, train_annotations, val_annotations = train_test_split(images, annotations, test_size = 0.1, random_state = 1)\n"
   ]
  },
  {
   "cell_type": "code",
   "execution_count": 12,
   "metadata": {},
   "outputs": [],
   "source": [
    "# making train/val folders for images\n",
    "train_path = __location__+ '\\\\Dataset\\\\images\\\\train'\n",
    "val_path = __location__+ '\\\\Dataset\\\\images\\\\val'\n",
    "\n",
    "# Check if the directory doesn't exist, then create it\n",
    "if not os.path.exists(train_path):\n",
    "    os.makedirs(train_path)\n",
    "\n",
    "if not os.path.exists(val_path):\n",
    "    os.makedirs(val_path)\n"
   ]
  },
  {
   "cell_type": "code",
   "execution_count": 13,
   "metadata": {},
   "outputs": [],
   "source": [
    "# making train/val folders for annotations\n",
    "\n",
    "train_annot_path = __location__+ '\\\\Dataset\\\\labels\\\\train'\n",
    "val_annot_path = __location__+ '\\\\Dataset\\\\labels\\\\val'\n",
    "\n",
    "# Check if the directory doesn't exist, then create it\n",
    "if not os.path.exists(train_annot_path):\n",
    "    os.makedirs(train_annot_path)\n",
    "\n",
    "if not os.path.exists(val_annot_path):\n",
    "    os.makedirs(val_annot_path)"
   ]
  },
  {
   "cell_type": "code",
   "execution_count": 14,
   "metadata": {},
   "outputs": [],
   "source": [
    "# moving train/val images to their corresponding folders\n",
    "move_files_to_folder(train_images, train_path)\n",
    "move_files_to_folder(val_images, val_path)"
   ]
  },
  {
   "cell_type": "code",
   "execution_count": 15,
   "metadata": {},
   "outputs": [],
   "source": [
    "# moving train/val annotations to their corresponding folders\n",
    "move_files_to_folder(train_annotations, train_annot_path)\n",
    "move_files_to_folder(val_annotations, val_annot_path)"
   ]
  }
 ],
 "metadata": {
  "kernelspec": {
   "display_name": "venv",
   "language": "python",
   "name": "python3"
  },
  "language_info": {
   "codemirror_mode": {
    "name": "ipython",
    "version": 3
   },
   "file_extension": ".py",
   "mimetype": "text/x-python",
   "name": "python",
   "nbconvert_exporter": "python",
   "pygments_lexer": "ipython3",
   "version": "3.11.5"
  }
 },
 "nbformat": 4,
 "nbformat_minor": 2
}
