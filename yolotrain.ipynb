{
  "nbformat": 4,
  "nbformat_minor": 0,
  "metadata": {
    "colab": {
      "provenance": [],
      "gpuType": "T4",
      "mount_file_id": "1NpQjkLOlF-02Jb0NinLSFKi6fxX8cDIf",
      "authorship_tag": "ABX9TyO0QOiZEF+NssTVcuG75yJY",
      "include_colab_link": true
    },
    "kernelspec": {
      "name": "python3",
      "display_name": "Python 3"
    },
    "language_info": {
      "name": "python"
    },
    "accelerator": "GPU"
  },
  "cells": [
    {
      "cell_type": "markdown",
      "metadata": {
        "id": "view-in-github",
        "colab_type": "text"
      },
      "source": [
        "<a href=\"https://colab.research.google.com/github/Alisaghafi/Yolo7-custom/blob/main/yolotrain.ipynb\" target=\"_parent\"><img src=\"https://colab.research.google.com/assets/colab-badge.svg\" alt=\"Open In Colab\"/></a>"
      ]
    },
    {
      "cell_type": "markdown",
      "source": [
        "Mount data from google drive"
      ],
      "metadata": {
        "id": "nFuxiRhi_03y"
      }
    },
    {
      "cell_type": "code",
      "execution_count": 1,
      "metadata": {
        "colab": {
          "base_uri": "https://localhost:8080/"
        },
        "id": "1Md5ihDkpCQB",
        "outputId": "58a720e8-3289-43d9-aafd-e9ec8bbbb8f7"
      },
      "outputs": [
        {
          "output_type": "stream",
          "name": "stdout",
          "text": [
            "/content/drive/MyDrive\n"
          ]
        }
      ],
      "source": [
        "%cd drive/MyDrive"
      ]
    },
    {
      "cell_type": "markdown",
      "source": [
        "Clone YOLO7 repo"
      ],
      "metadata": {
        "id": "4rWZ55Jc_uaR"
      }
    },
    {
      "cell_type": "code",
      "source": [
        "!git clone https://github.com/WongKinYiu/yolov7.git"
      ],
      "metadata": {
        "colab": {
          "base_uri": "https://localhost:8080/"
        },
        "id": "KQMasTPupn2P",
        "outputId": "d92d8584-5e4b-4a28-ebc4-53ff8bfd576b"
      },
      "execution_count": null,
      "outputs": [
        {
          "output_type": "stream",
          "name": "stdout",
          "text": [
            "Cloning into 'yolov7'...\n",
            "remote: Enumerating objects: 1191, done.\u001b[K\n",
            "remote: Total 1191 (delta 0), reused 0 (delta 0), pack-reused 1191\u001b[K\n",
            "Receiving objects: 100% (1191/1191), 74.22 MiB | 17.60 MiB/s, done.\n",
            "Resolving deltas: 100% (515/515), done.\n",
            "Updating files: 100% (108/108), done.\n"
          ]
        }
      ]
    },
    {
      "cell_type": "markdown",
      "source": [
        "Train YOLO7 custom model based on new labels and annotations"
      ],
      "metadata": {
        "id": "0Dyk4HTmAATT"
      }
    },
    {
      "cell_type": "code",
      "source": [
        "!pwd"
      ],
      "metadata": {
        "colab": {
          "base_uri": "https://localhost:8080/"
        },
        "id": "8g9ljiDV_CUT",
        "outputId": "e082dda9-d36f-4389-ae10-b0e786e91e03"
      },
      "execution_count": 2,
      "outputs": [
        {
          "output_type": "stream",
          "name": "stdout",
          "text": [
            "/content/drive/MyDrive\n"
          ]
        }
      ]
    },
    {
      "cell_type": "code",
      "source": [
        "%cd yolov7"
      ],
      "metadata": {
        "colab": {
          "base_uri": "https://localhost:8080/"
        },
        "id": "O0Kjk0XSASx8",
        "outputId": "2993e355-ed9f-4b6a-e95b-b7ca9a4fc747"
      },
      "execution_count": 3,
      "outputs": [
        {
          "output_type": "stream",
          "name": "stdout",
          "text": [
            "/content/drive/MyDrive/yolov7\n"
          ]
        }
      ]
    },
    {
      "cell_type": "code",
      "source": [
        "!wget https://github.com/WongKinYiu/yolov7/releases/download/v0.1/yolov7_training.pt"
      ],
      "metadata": {
        "id": "C9MF2-QUlopV"
      },
      "execution_count": null,
      "outputs": []
    },
    {
      "cell_type": "code",
      "source": [
        "pip install wandb"
      ],
      "metadata": {
        "id": "oLfaZYr9S5yp"
      },
      "execution_count": null,
      "outputs": []
    },
    {
      "cell_type": "code",
      "source": [
        "!python train.py --epochs 20 --workers 4 --device 0 --batch-size 16 --img 640 640 --data data/coco_custom.yaml --cfg cfg/training/yolov7_custom.yaml --weights yolov7.pt --project amagroup"
      ],
      "metadata": {
        "colab": {
          "base_uri": "https://localhost:8080/"
        },
        "id": "PrSvhiOLAhjR",
        "outputId": "03d5bce5-db8d-4e62-90ed-aa6e9d493333"
      },
      "execution_count": 8,
      "outputs": [
        {
          "output_type": "stream",
          "name": "stdout",
          "text": [
            "2023-11-04 21:55:12.703036: E tensorflow/compiler/xla/stream_executor/cuda/cuda_dnn.cc:9342] Unable to register cuDNN factory: Attempting to register factory for plugin cuDNN when one has already been registered\n",
            "2023-11-04 21:55:12.703096: E tensorflow/compiler/xla/stream_executor/cuda/cuda_fft.cc:609] Unable to register cuFFT factory: Attempting to register factory for plugin cuFFT when one has already been registered\n",
            "2023-11-04 21:55:12.703131: E tensorflow/compiler/xla/stream_executor/cuda/cuda_blas.cc:1518] Unable to register cuBLAS factory: Attempting to register factory for plugin cuBLAS when one has already been registered\n",
            "2023-11-04 21:55:12.710916: I tensorflow/core/platform/cpu_feature_guard.cc:182] This TensorFlow binary is optimized to use available CPU instructions in performance-critical operations.\n",
            "To enable the following instructions: AVX2 FMA, in other operations, rebuild TensorFlow with the appropriate compiler flags.\n",
            "2023-11-04 21:55:13.684825: W tensorflow/compiler/tf2tensorrt/utils/py_utils.cc:38] TF-TRT Warning: Could not find TensorRT\n",
            "YOLOR 🚀 v0.1-126-g84932d7 torch 2.1.0+cu118 CUDA:0 (Tesla T4, 15101.8125MB)\n",
            "\n",
            "Namespace(weights='yolov7.pt', cfg='cfg/training/yolov7_custom.yaml', data='data/coco_custom.yaml', hyp='data/hyp.scratch.p5.yaml', epochs=20, batch_size=16, img_size=[640, 640], rect=False, resume=False, nosave=False, notest=False, noautoanchor=False, evolve=False, bucket='', cache_images=False, image_weights=False, device='0', multi_scale=False, single_cls=False, adam=False, sync_bn=False, local_rank=-1, workers=4, project='amagroup', entity=None, name='exp', exist_ok=False, quad=False, linear_lr=False, label_smoothing=0.0, upload_dataset=False, bbox_interval=-1, save_period=-1, artifact_alias='latest', freeze=[0], v5_metric=False, world_size=1, global_rank=-1, save_dir='amagroup/exp2', total_batch_size=16)\n",
            "\u001b[34m\u001b[1mtensorboard: \u001b[0mStart with 'tensorboard --logdir amagroup', view at http://localhost:6006/\n",
            "\u001b[34m\u001b[1mhyperparameters: \u001b[0mlr0=0.01, lrf=0.1, momentum=0.937, weight_decay=0.0005, warmup_epochs=3.0, warmup_momentum=0.8, warmup_bias_lr=0.1, box=0.05, cls=0.3, cls_pw=1.0, obj=0.7, obj_pw=1.0, iou_t=0.2, anchor_t=4.0, fl_gamma=0.0, hsv_h=0.015, hsv_s=0.7, hsv_v=0.4, degrees=0.0, translate=0.2, scale=0.9, shear=0.0, perspective=0.0, flipud=0.0, fliplr=0.5, mosaic=1.0, mixup=0.15, copy_paste=0.0, paste_in=0.15, loss_ota=1\n",
            "\u001b[34m\u001b[1mwandb\u001b[0m: Currently logged in as: \u001b[33malisaghafi-ukm\u001b[0m. Use \u001b[1m`wandb login --relogin`\u001b[0m to force relogin\n",
            "\u001b[34m\u001b[1mwandb\u001b[0m: Tracking run with wandb version 0.15.12\n",
            "\u001b[34m\u001b[1mwandb\u001b[0m: Run data is saved locally in \u001b[35m\u001b[1m/content/drive/MyDrive/yolov7/wandb/run-20231104_215521-dz2lm2pi\u001b[0m\n",
            "\u001b[34m\u001b[1mwandb\u001b[0m: Run \u001b[1m`wandb offline`\u001b[0m to turn off syncing.\n",
            "\u001b[34m\u001b[1mwandb\u001b[0m: Syncing run \u001b[33mexp2\u001b[0m\n",
            "\u001b[34m\u001b[1mwandb\u001b[0m: ⭐️ View project at \u001b[34m\u001b[4mhttps://wandb.ai/alisaghafi-ukm/amagroup\u001b[0m\n",
            "\u001b[34m\u001b[1mwandb\u001b[0m: 🚀 View run at \u001b[34m\u001b[4mhttps://wandb.ai/alisaghafi-ukm/amagroup/runs/dz2lm2pi\u001b[0m\n",
            "\n",
            "                 from  n    params  module                                  arguments                     \n",
            "  0                -1  1       928  models.common.Conv                      [3, 32, 3, 1]                 \n",
            "  1                -1  1     18560  models.common.Conv                      [32, 64, 3, 2]                \n",
            "  2                -1  1     36992  models.common.Conv                      [64, 64, 3, 1]                \n",
            "  3                -1  1     73984  models.common.Conv                      [64, 128, 3, 2]               \n",
            "  4                -1  1      8320  models.common.Conv                      [128, 64, 1, 1]               \n",
            "  5                -2  1      8320  models.common.Conv                      [128, 64, 1, 1]               \n",
            "  6                -1  1     36992  models.common.Conv                      [64, 64, 3, 1]                \n",
            "  7                -1  1     36992  models.common.Conv                      [64, 64, 3, 1]                \n",
            "  8                -1  1     36992  models.common.Conv                      [64, 64, 3, 1]                \n",
            "  9                -1  1     36992  models.common.Conv                      [64, 64, 3, 1]                \n",
            " 10  [-1, -3, -5, -6]  1         0  models.common.Concat                    [1]                           \n",
            " 11                -1  1     66048  models.common.Conv                      [256, 256, 1, 1]              \n",
            " 12                -1  1         0  models.common.MP                        []                            \n",
            " 13                -1  1     33024  models.common.Conv                      [256, 128, 1, 1]              \n",
            " 14                -3  1     33024  models.common.Conv                      [256, 128, 1, 1]              \n",
            " 15                -1  1    147712  models.common.Conv                      [128, 128, 3, 2]              \n",
            " 16          [-1, -3]  1         0  models.common.Concat                    [1]                           \n",
            " 17                -1  1     33024  models.common.Conv                      [256, 128, 1, 1]              \n",
            " 18                -2  1     33024  models.common.Conv                      [256, 128, 1, 1]              \n",
            " 19                -1  1    147712  models.common.Conv                      [128, 128, 3, 1]              \n",
            " 20                -1  1    147712  models.common.Conv                      [128, 128, 3, 1]              \n",
            " 21                -1  1    147712  models.common.Conv                      [128, 128, 3, 1]              \n",
            " 22                -1  1    147712  models.common.Conv                      [128, 128, 3, 1]              \n",
            " 23  [-1, -3, -5, -6]  1         0  models.common.Concat                    [1]                           \n",
            " 24                -1  1    263168  models.common.Conv                      [512, 512, 1, 1]              \n",
            " 25                -1  1         0  models.common.MP                        []                            \n",
            " 26                -1  1    131584  models.common.Conv                      [512, 256, 1, 1]              \n",
            " 27                -3  1    131584  models.common.Conv                      [512, 256, 1, 1]              \n",
            " 28                -1  1    590336  models.common.Conv                      [256, 256, 3, 2]              \n",
            " 29          [-1, -3]  1         0  models.common.Concat                    [1]                           \n",
            " 30                -1  1    131584  models.common.Conv                      [512, 256, 1, 1]              \n",
            " 31                -2  1    131584  models.common.Conv                      [512, 256, 1, 1]              \n",
            " 32                -1  1    590336  models.common.Conv                      [256, 256, 3, 1]              \n",
            " 33                -1  1    590336  models.common.Conv                      [256, 256, 3, 1]              \n",
            " 34                -1  1    590336  models.common.Conv                      [256, 256, 3, 1]              \n",
            " 35                -1  1    590336  models.common.Conv                      [256, 256, 3, 1]              \n",
            " 36  [-1, -3, -5, -6]  1         0  models.common.Concat                    [1]                           \n",
            " 37                -1  1   1050624  models.common.Conv                      [1024, 1024, 1, 1]            \n",
            " 38                -1  1         0  models.common.MP                        []                            \n",
            " 39                -1  1    525312  models.common.Conv                      [1024, 512, 1, 1]             \n",
            " 40                -3  1    525312  models.common.Conv                      [1024, 512, 1, 1]             \n",
            " 41                -1  1   2360320  models.common.Conv                      [512, 512, 3, 2]              \n",
            " 42          [-1, -3]  1         0  models.common.Concat                    [1]                           \n",
            " 43                -1  1    262656  models.common.Conv                      [1024, 256, 1, 1]             \n",
            " 44                -2  1    262656  models.common.Conv                      [1024, 256, 1, 1]             \n",
            " 45                -1  1    590336  models.common.Conv                      [256, 256, 3, 1]              \n",
            " 46                -1  1    590336  models.common.Conv                      [256, 256, 3, 1]              \n",
            " 47                -1  1    590336  models.common.Conv                      [256, 256, 3, 1]              \n",
            " 48                -1  1    590336  models.common.Conv                      [256, 256, 3, 1]              \n",
            " 49  [-1, -3, -5, -6]  1         0  models.common.Concat                    [1]                           \n",
            " 50                -1  1   1050624  models.common.Conv                      [1024, 1024, 1, 1]            \n",
            " 51                -1  1   7609344  models.common.SPPCSPC                   [1024, 512, 1]                \n",
            " 52                -1  1    131584  models.common.Conv                      [512, 256, 1, 1]              \n",
            " 53                -1  1         0  torch.nn.modules.upsampling.Upsample    [None, 2, 'nearest']          \n",
            " 54                37  1    262656  models.common.Conv                      [1024, 256, 1, 1]             \n",
            " 55          [-1, -2]  1         0  models.common.Concat                    [1]                           \n",
            " 56                -1  1    131584  models.common.Conv                      [512, 256, 1, 1]              \n",
            " 57                -2  1    131584  models.common.Conv                      [512, 256, 1, 1]              \n",
            " 58                -1  1    295168  models.common.Conv                      [256, 128, 3, 1]              \n",
            " 59                -1  1    147712  models.common.Conv                      [128, 128, 3, 1]              \n",
            " 60                -1  1    147712  models.common.Conv                      [128, 128, 3, 1]              \n",
            " 61                -1  1    147712  models.common.Conv                      [128, 128, 3, 1]              \n",
            " 62[-1, -2, -3, -4, -5, -6]  1         0  models.common.Concat                    [1]                           \n",
            " 63                -1  1    262656  models.common.Conv                      [1024, 256, 1, 1]             \n",
            " 64                -1  1     33024  models.common.Conv                      [256, 128, 1, 1]              \n",
            " 65                -1  1         0  torch.nn.modules.upsampling.Upsample    [None, 2, 'nearest']          \n",
            " 66                24  1     65792  models.common.Conv                      [512, 128, 1, 1]              \n",
            " 67          [-1, -2]  1         0  models.common.Concat                    [1]                           \n",
            " 68                -1  1     33024  models.common.Conv                      [256, 128, 1, 1]              \n",
            " 69                -2  1     33024  models.common.Conv                      [256, 128, 1, 1]              \n",
            " 70                -1  1     73856  models.common.Conv                      [128, 64, 3, 1]               \n",
            " 71                -1  1     36992  models.common.Conv                      [64, 64, 3, 1]                \n",
            " 72                -1  1     36992  models.common.Conv                      [64, 64, 3, 1]                \n",
            " 73                -1  1     36992  models.common.Conv                      [64, 64, 3, 1]                \n",
            " 74[-1, -2, -3, -4, -5, -6]  1         0  models.common.Concat                    [1]                           \n",
            " 75                -1  1     65792  models.common.Conv                      [512, 128, 1, 1]              \n",
            " 76                -1  1         0  models.common.MP                        []                            \n",
            " 77                -1  1     16640  models.common.Conv                      [128, 128, 1, 1]              \n",
            " 78                -3  1     16640  models.common.Conv                      [128, 128, 1, 1]              \n",
            " 79                -1  1    147712  models.common.Conv                      [128, 128, 3, 2]              \n",
            " 80      [-1, -3, 63]  1         0  models.common.Concat                    [1]                           \n",
            " 81                -1  1    131584  models.common.Conv                      [512, 256, 1, 1]              \n",
            " 82                -2  1    131584  models.common.Conv                      [512, 256, 1, 1]              \n",
            " 83                -1  1    295168  models.common.Conv                      [256, 128, 3, 1]              \n",
            " 84                -1  1    147712  models.common.Conv                      [128, 128, 3, 1]              \n",
            " 85                -1  1    147712  models.common.Conv                      [128, 128, 3, 1]              \n",
            " 86                -1  1    147712  models.common.Conv                      [128, 128, 3, 1]              \n",
            " 87[-1, -2, -3, -4, -5, -6]  1         0  models.common.Concat                    [1]                           \n",
            " 88                -1  1    262656  models.common.Conv                      [1024, 256, 1, 1]             \n",
            " 89                -1  1         0  models.common.MP                        []                            \n",
            " 90                -1  1     66048  models.common.Conv                      [256, 256, 1, 1]              \n",
            " 91                -3  1     66048  models.common.Conv                      [256, 256, 1, 1]              \n",
            " 92                -1  1    590336  models.common.Conv                      [256, 256, 3, 2]              \n",
            " 93      [-1, -3, 51]  1         0  models.common.Concat                    [1]                           \n",
            " 94                -1  1    525312  models.common.Conv                      [1024, 512, 1, 1]             \n",
            " 95                -2  1    525312  models.common.Conv                      [1024, 512, 1, 1]             \n",
            " 96                -1  1   1180160  models.common.Conv                      [512, 256, 3, 1]              \n",
            " 97                -1  1    590336  models.common.Conv                      [256, 256, 3, 1]              \n",
            " 98                -1  1    590336  models.common.Conv                      [256, 256, 3, 1]              \n",
            " 99                -1  1    590336  models.common.Conv                      [256, 256, 3, 1]              \n",
            "100[-1, -2, -3, -4, -5, -6]  1         0  models.common.Concat                    [1]                           \n",
            "101                -1  1   1049600  models.common.Conv                      [2048, 512, 1, 1]             \n",
            "102                75  1    328704  models.common.RepConv                   [128, 256, 3, 1]              \n",
            "103                88  1   1312768  models.common.RepConv                   [256, 512, 3, 1]              \n",
            "104               101  1   5246976  models.common.RepConv                   [512, 1024, 3, 1]             \n",
            "105   [102, 103, 104]  1     39550  models.yolo.IDetect                     [2, [[12, 16, 19, 36, 40, 28], [36, 75, 76, 55, 72, 146], [142, 110, 192, 243, 459, 401]], [256, 512, 1024]]\n",
            "Model Summary: 415 layers, 37201950 parameters, 37201950 gradients\n",
            "\n",
            "Transferred 552/566 items from yolov7.pt\n",
            "Scaled weight_decay = 0.0005\n",
            "Optimizer groups: 95 .bias, 95 conv.weight, 98 other\n",
            "\u001b[34m\u001b[1mtrain: \u001b[0mScanning 'Dataset/labels/train.cache' images and labels... 4456 found, 0 missing, 0 empty, 0 corrupted: 100% 4456/4456 [00:00<?, ?it/s]\n",
            "\u001b[34m\u001b[1mval: \u001b[0mScanning 'Dataset/labels/val.cache' images and labels... 496 found, 0 missing, 0 empty, 0 corrupted: 100% 496/496 [00:00<?, ?it/s]\n",
            "\n",
            "\u001b[34m\u001b[1mautoanchor: \u001b[0mAnalyzing anchors... anchors/target = 3.79, Best Possible Recall (BPR) = 0.9843\n",
            "Image sizes 640 train, 640 test\n",
            "Using 2 dataloader workers\n",
            "Logging results to amagroup/exp2\n",
            "Starting training for 20 epochs...\n",
            "\n",
            "     Epoch   gpu_mem       box       obj       cls     total    labels  img_size\n",
            "      0/19     2.23G   0.07128   0.01233   0.01142   0.09503        43       640: 100% 279/279 [12:16<00:00,  2.64s/it]\n",
            "               Class      Images      Labels           P           R      mAP@.5  mAP@.5:.95:   0% 0/16 [00:00<?, ?it/s]/usr/local/lib/python3.10/dist-packages/torch/functional.py:504: UserWarning: torch.meshgrid: in an upcoming release, it will be required to pass the indexing argument. (Triggered internally at ../aten/src/ATen/native/TensorShape.cpp:3526.)\n",
            "  return _VF.meshgrid(tensors, **kwargs)  # type: ignore[attr-defined]\n",
            "               Class      Images      Labels           P           R      mAP@.5  mAP@.5:.95: 100% 16/16 [00:41<00:00,  2.58s/it]\n",
            "                 all         496         992       0.561       0.166      0.0519      0.0127\n",
            "\n",
            "     Epoch   gpu_mem       box       obj       cls     total    labels  img_size\n",
            "      1/19     13.4G   0.06332   0.01177  0.008033   0.08312        35       640: 100% 279/279 [05:56<00:00,  1.28s/it]\n",
            "               Class      Images      Labels           P           R      mAP@.5  mAP@.5:.95: 100% 16/16 [00:12<00:00,  1.28it/s]\n",
            "                 all         496         992       0.636       0.207       0.126      0.0495\n",
            "\n",
            "     Epoch   gpu_mem       box       obj       cls     total    labels  img_size\n",
            "      2/19     11.3G   0.06077   0.01215  0.007405   0.08033        20       640: 100% 279/279 [05:55<00:00,  1.27s/it]\n",
            "               Class      Images      Labels           P           R      mAP@.5  mAP@.5:.95: 100% 16/16 [00:10<00:00,  1.51it/s]\n",
            "                 all         496         992       0.629       0.181       0.118      0.0439\n",
            "\n",
            "     Epoch   gpu_mem       box       obj       cls     total    labels  img_size\n",
            "      3/19     11.3G   0.06248   0.01209  0.008064   0.08263        33       640: 100% 279/279 [05:55<00:00,  1.28s/it]\n",
            "               Class      Images      Labels           P           R      mAP@.5  mAP@.5:.95: 100% 16/16 [00:12<00:00,  1.30it/s]\n",
            "                 all         496         992       0.618       0.143      0.0782      0.0239\n",
            "\n",
            "     Epoch   gpu_mem       box       obj       cls     total    labels  img_size\n",
            "  0% 0/279 [00:00<?, ?it/s]\u001b[34m\u001b[1mwandb\u001b[0m: Network error resolved after 0:00:01.109454, resuming normal operation.\n",
            "      4/19     11.3G   0.06284   0.01231  0.008103   0.08325        41       640: 100% 279/279 [05:52<00:00,  1.26s/it]\n",
            "               Class      Images      Labels           P           R      mAP@.5  mAP@.5:.95: 100% 16/16 [00:10<00:00,  1.47it/s]\n",
            "                 all         496         992       0.103       0.262      0.0487      0.0163\n",
            "\n",
            "     Epoch   gpu_mem       box       obj       cls     total    labels  img_size\n",
            "      5/19     11.3G   0.06058   0.01259  0.007792   0.08097        22       640: 100% 279/279 [05:50<00:00,  1.26s/it]\n",
            "               Class      Images      Labels           P           R      mAP@.5  mAP@.5:.95: 100% 16/16 [00:13<00:00,  1.21it/s]\n",
            "                 all         496         992       0.111       0.214       0.091      0.0355\n",
            "\u001b[34m\u001b[1mwandb\u001b[0m: Network error resolved after 0:00:01.244613, resuming normal operation.\n",
            "\n",
            "     Epoch   gpu_mem       box       obj       cls     total    labels  img_size\n",
            "      6/19     11.3G   0.05792   0.01277  0.007399   0.07808        28       640: 100% 279/279 [05:51<00:00,  1.26s/it]\n",
            "               Class      Images      Labels           P           R      mAP@.5  mAP@.5:.95: 100% 16/16 [00:10<00:00,  1.48it/s]\n",
            "                 all         496         992       0.218       0.248       0.143      0.0659\n",
            "\n",
            "     Epoch   gpu_mem       box       obj       cls     total    labels  img_size\n",
            "      7/19     11.3G   0.05657   0.01293  0.007164   0.07666        23       640: 100% 279/279 [05:57<00:00,  1.28s/it]\n",
            "               Class      Images      Labels           P           R      mAP@.5  mAP@.5:.95: 100% 16/16 [00:12<00:00,  1.26it/s]\n",
            "                 all         496         992       0.135       0.295       0.106      0.0467\n",
            "\n",
            "     Epoch   gpu_mem       box       obj       cls     total    labels  img_size\n",
            "      8/19     11.3G   0.05503   0.01291  0.007115   0.07506        36       640: 100% 279/279 [06:04<00:00,  1.31s/it]\n",
            "               Class      Images      Labels           P           R      mAP@.5  mAP@.5:.95: 100% 16/16 [00:09<00:00,  1.69it/s]\n",
            "                 all         496         992        0.14       0.275       0.109      0.0499\n",
            "\n",
            "     Epoch   gpu_mem       box       obj       cls     total    labels  img_size\n",
            "      9/19     11.3G   0.05348   0.01323  0.006661   0.07337        45       640: 100% 279/279 [06:06<00:00,  1.31s/it]\n",
            "               Class      Images      Labels           P           R      mAP@.5  mAP@.5:.95: 100% 16/16 [00:13<00:00,  1.21it/s]\n",
            "                 all         496         992        0.15       0.344       0.122      0.0575\n",
            "\u001b[34m\u001b[1mwandb\u001b[0m: Network error resolved after 0:00:01.281551, resuming normal operation.\n",
            "\n",
            "     Epoch   gpu_mem       box       obj       cls     total    labels  img_size\n",
            "     10/19     11.3G   0.05205   0.01299   0.00658   0.07162        49       640: 100% 279/279 [06:05<00:00,  1.31s/it]\n",
            "               Class      Images      Labels           P           R      mAP@.5  mAP@.5:.95: 100% 16/16 [00:09<00:00,  1.71it/s]\n",
            "                 all         496         992       0.149       0.359       0.121      0.0607\n",
            "\n",
            "     Epoch   gpu_mem       box       obj       cls     total    labels  img_size\n",
            "     11/19     11.3G   0.05097   0.01283  0.006667   0.07047        27       640: 100% 279/279 [06:04<00:00,  1.31s/it]\n",
            "               Class      Images      Labels           P           R      mAP@.5  mAP@.5:.95: 100% 16/16 [00:12<00:00,  1.26it/s]\n",
            "                 all         496         992       0.182       0.332       0.141      0.0721\n",
            "\u001b[34m\u001b[1mwandb\u001b[0m: Network error resolved after 0:00:01.295493, resuming normal operation.\n",
            "\n",
            "     Epoch   gpu_mem       box       obj       cls     total    labels  img_size\n",
            "     12/19     11.3G   0.05052   0.01304  0.006579   0.07014        31       640: 100% 279/279 [06:03<00:00,  1.30s/it]\n",
            "               Class      Images      Labels           P           R      mAP@.5  mAP@.5:.95: 100% 16/16 [00:10<00:00,  1.53it/s]\n",
            "                 all         496         992       0.171       0.372       0.128      0.0649\n",
            "\n",
            "     Epoch   gpu_mem       box       obj       cls     total    labels  img_size\n",
            "     13/19     11.3G   0.04906   0.01309  0.006254   0.06841        39       640: 100% 279/279 [06:04<00:00,  1.30s/it]\n",
            "               Class      Images      Labels           P           R      mAP@.5  mAP@.5:.95: 100% 16/16 [00:12<00:00,  1.32it/s]\n",
            "                 all         496         992       0.171       0.455       0.176       0.095\n",
            "\u001b[34m\u001b[1mwandb\u001b[0m: Network error resolved after 0:00:01.189464, resuming normal operation.\n",
            "\n",
            "     Epoch   gpu_mem       box       obj       cls     total    labels  img_size\n",
            "     14/19     11.3G   0.04778   0.01308  0.005999   0.06686        37       640: 100% 279/279 [06:01<00:00,  1.30s/it]\n",
            "               Class      Images      Labels           P           R      mAP@.5  mAP@.5:.95: 100% 16/16 [00:11<00:00,  1.39it/s]\n",
            "                 all         496         992       0.184       0.436       0.184      0.0999\n",
            "\n",
            "     Epoch   gpu_mem       box       obj       cls     total    labels  img_size\n",
            "     15/19     11.3G   0.04705    0.0132  0.005666   0.06591        52       640: 100% 279/279 [05:56<00:00,  1.28s/it]\n",
            "               Class      Images      Labels           P           R      mAP@.5  mAP@.5:.95: 100% 16/16 [00:12<00:00,  1.32it/s]\n",
            "                 all         496         992       0.202        0.43       0.172      0.0958\n",
            "\u001b[34m\u001b[1mwandb\u001b[0m: Network error resolved after 0:00:01.131951, resuming normal operation.\n",
            "\n",
            "     Epoch   gpu_mem       box       obj       cls     total    labels  img_size\n",
            "     16/19     11.3G   0.04667   0.01345  0.005503   0.06562        48       640: 100% 279/279 [06:04<00:00,  1.31s/it]\n",
            "               Class      Images      Labels           P           R      mAP@.5  mAP@.5:.95: 100% 16/16 [00:11<00:00,  1.39it/s]\n",
            "                 all         496         992       0.228       0.417       0.216       0.127\n",
            "\n",
            "     Epoch   gpu_mem       box       obj       cls     total    labels  img_size\n",
            "     17/19     11.3G   0.04519   0.01331  0.005341   0.06383        21       640: 100% 279/279 [06:08<00:00,  1.32s/it]\n",
            "               Class      Images      Labels           P           R      mAP@.5  mAP@.5:.95: 100% 16/16 [00:12<00:00,  1.25it/s]\n",
            "                 all         496         992       0.251       0.411       0.203       0.118\n",
            "\u001b[34m\u001b[1mwandb\u001b[0m: Network error resolved after 0:00:01.238311, resuming normal operation.\n",
            "\n",
            "     Epoch   gpu_mem       box       obj       cls     total    labels  img_size\n",
            "     18/19     11.3G   0.04423   0.01314  0.005356   0.06273        23       640: 100% 279/279 [06:18<00:00,  1.36s/it]\n",
            "               Class      Images      Labels           P           R      mAP@.5  mAP@.5:.95: 100% 16/16 [00:10<00:00,  1.46it/s]\n",
            "                 all         496         992        0.25       0.397       0.197       0.115\n",
            "\n",
            "     Epoch   gpu_mem       box       obj       cls     total    labels  img_size\n",
            "     19/19     11.3G   0.04386   0.01314  0.005244   0.06224        33       640: 100% 279/279 [06:01<00:00,  1.30s/it]\n",
            "               Class      Images      Labels           P           R      mAP@.5  mAP@.5:.95: 100% 16/16 [00:14<00:00,  1.09it/s]\n",
            "                 all         496         992       0.217       0.446       0.173       0.103\n",
            "            Smallest         496         496       0.168       0.159      0.0581       0.033\n",
            "             Largest         496         496       0.267       0.732       0.288       0.173\n",
            "\u001b[34m\u001b[1mwandb\u001b[0m: Network error resolved after 0:00:01.259118, resuming normal operation.\n",
            "20 epochs completed in 2.299 hours.\n",
            "\n",
            "Optimizer stripped from amagroup/exp2/weights/last.pt, 74.8MB\n",
            "Optimizer stripped from amagroup/exp2/weights/best.pt, 74.8MB\n",
            "Images sizes do not match. This will causes images to be display incorrectly in the UI.\n",
            "\u001b[34m\u001b[1mwandb\u001b[0m: Waiting for W&B process to finish... \u001b[32m(success).\u001b[0m\n",
            "\u001b[34m\u001b[1mwandb\u001b[0m: \n",
            "\u001b[34m\u001b[1mwandb\u001b[0m: Run history:\n",
            "\u001b[34m\u001b[1mwandb\u001b[0m:      metrics/mAP_0.5 ▁▄▄▂▁▃▅▃▄▄▄▅▄▆▇▆█▇▇▆\n",
            "\u001b[34m\u001b[1mwandb\u001b[0m: metrics/mAP_0.5:0.95 ▁▃▃▂▁▂▄▃▃▄▄▅▄▆▆▆█▇▇▇\n",
            "\u001b[34m\u001b[1mwandb\u001b[0m:    metrics/precision ▇███▁▁▃▁▁▂▂▂▂▂▂▂▃▃▃▃\n",
            "\u001b[34m\u001b[1mwandb\u001b[0m:       metrics/recall ▂▂▂▁▄▃▃▄▄▆▆▅▆██▇▇▇▇█\n",
            "\u001b[34m\u001b[1mwandb\u001b[0m:       train/box_loss █▆▅▆▆▅▅▄▄▃▃▃▃▂▂▂▂▁▁▁\n",
            "\u001b[34m\u001b[1mwandb\u001b[0m:       train/cls_loss █▄▃▄▄▄▃▃▃▃▃▃▃▂▂▁▁▁▁▁\n",
            "\u001b[34m\u001b[1mwandb\u001b[0m:       train/obj_loss ▃▁▃▂▃▄▅▆▆▇▆▅▆▇▆▇█▇▇▇\n",
            "\u001b[34m\u001b[1mwandb\u001b[0m:         val/box_loss █▆▅█▇▆▅▅▄▄▄▄▃▂▂▂▂▁▁▁\n",
            "\u001b[34m\u001b[1mwandb\u001b[0m:         val/cls_loss ▇▁▃█▆▃▅▄▅▅▃▅▅▃▅▂▆▃▂▄\n",
            "\u001b[34m\u001b[1mwandb\u001b[0m:         val/obj_loss ▁▃▄▄▄▅▆▆▆▅▇▅█▆▆█▇▇██\n",
            "\u001b[34m\u001b[1mwandb\u001b[0m:                x/lr0 ▂▅▇███▇▇▆▆▅▅▄▃▃▂▂▂▁▁\n",
            "\u001b[34m\u001b[1mwandb\u001b[0m:                x/lr1 ▂▅▇███▇▇▆▆▅▅▄▃▃▂▂▂▁▁\n",
            "\u001b[34m\u001b[1mwandb\u001b[0m:                x/lr2 █▆▃▂▂▂▂▂▂▂▁▁▁▁▁▁▁▁▁▁\n",
            "\u001b[34m\u001b[1mwandb\u001b[0m: \n",
            "\u001b[34m\u001b[1mwandb\u001b[0m: Run summary:\n",
            "\u001b[34m\u001b[1mwandb\u001b[0m:      metrics/mAP_0.5 0.17314\n",
            "\u001b[34m\u001b[1mwandb\u001b[0m: metrics/mAP_0.5:0.95 0.10317\n",
            "\u001b[34m\u001b[1mwandb\u001b[0m:    metrics/precision 0.21748\n",
            "\u001b[34m\u001b[1mwandb\u001b[0m:       metrics/recall 0.44556\n",
            "\u001b[34m\u001b[1mwandb\u001b[0m:       train/box_loss 0.04386\n",
            "\u001b[34m\u001b[1mwandb\u001b[0m:       train/cls_loss 0.00524\n",
            "\u001b[34m\u001b[1mwandb\u001b[0m:       train/obj_loss 0.01314\n",
            "\u001b[34m\u001b[1mwandb\u001b[0m:         val/box_loss 0.08256\n",
            "\u001b[34m\u001b[1mwandb\u001b[0m:         val/cls_loss 0.01256\n",
            "\u001b[34m\u001b[1mwandb\u001b[0m:         val/obj_loss 0.01407\n",
            "\u001b[34m\u001b[1mwandb\u001b[0m:                x/lr0 0.00122\n",
            "\u001b[34m\u001b[1mwandb\u001b[0m:                x/lr1 0.00122\n",
            "\u001b[34m\u001b[1mwandb\u001b[0m:                x/lr2 0.00122\n",
            "\u001b[34m\u001b[1mwandb\u001b[0m: \n",
            "\u001b[34m\u001b[1mwandb\u001b[0m: 🚀 View run \u001b[33mexp2\u001b[0m at: \u001b[34m\u001b[4mhttps://wandb.ai/alisaghafi-ukm/amagroup/runs/dz2lm2pi\u001b[0m\n",
            "\u001b[34m\u001b[1mwandb\u001b[0m: ️⚡ View job at \u001b[34m\u001b[4mhttps://wandb.ai/alisaghafi-ukm/amagroup/jobs/QXJ0aWZhY3RDb2xsZWN0aW9uOjExMjc0MzEyOA==/version_details/v1\u001b[0m\n",
            "\u001b[34m\u001b[1mwandb\u001b[0m: Synced 5 W&B file(s), 342 media file(s), 3 artifact file(s) and 0 other file(s)\n",
            "\u001b[34m\u001b[1mwandb\u001b[0m: Find logs at: \u001b[35m\u001b[1m./wandb/run-20231104_215521-dz2lm2pi/logs\u001b[0m\n"
          ]
        }
      ]
    },
    {
      "cell_type": "markdown",
      "source": [
        "Testing the trained model"
      ],
      "metadata": {
        "id": "lhP4NPRGlDus"
      }
    },
    {
      "cell_type": "code",
      "source": [
        "!python detect.py --weights runs/train/exp/weights/best.pt --conf 0.5 --img-size 640 --source /content/drive/MyDrive/yolov7/inference/images/image3.jpg --no-trace"
      ],
      "metadata": {
        "id": "kaAf_JQblG7q"
      },
      "execution_count": null,
      "outputs": []
    }
  ]
}